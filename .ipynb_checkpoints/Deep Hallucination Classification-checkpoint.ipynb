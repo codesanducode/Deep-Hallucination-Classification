{
 "cells": [
  {
   "cell_type": "code",
   "execution_count": 1,
   "metadata": {},
   "outputs": [],
   "source": [
    "import os\n",
    "import sys\n",
    "import numpy as np\n",
    "import tensorflow as tf\n",
    "import keras\n",
    "from keras import datasets, layers, models\n",
    "import matplotlib.pyplot as plt\n",
    "import cv2"
   ]
  },
  {
   "cell_type": "code",
   "execution_count": 2,
   "metadata": {},
   "outputs": [],
   "source": [
    "#read data\n",
    "f = open(\"train.txt\", \"r\")\n",
    "train_f = [i.replace('\\n','') for i in f.readlines()]\n",
    "f.close()\n",
    "f = open(\"test.txt\", \"r\")\n",
    "test_f = [i.replace('\\n','') for i in f.readlines()]\n",
    "f.close()\n",
    "f = open(\"validation.txt\", \"r\")\n",
    "validation_f = [i.replace('\\n','') for i in f.readlines()]\n",
    "f.close()"
   ]
  },
  {
   "cell_type": "code",
   "execution_count": 3,
   "metadata": {},
   "outputs": [],
   "source": [
    "#format data\n",
    "from keras.utils import to_categorical\n",
    "\n",
    "X_train = np.array([cv2.imread(\"train/\"+j,1) for j in [train_f[i][:-2] for i in range(len(train_f))]])\n",
    "Y_train = np.array(to_categorical([int(train_f[i][-1:]) for i in range(len(train_f))]))\n",
    "\n",
    "X_validation = np.array([cv2.imread(\"validation/\"+j,1) for j in [validation_f[i][:-2] for i in range(len(validation_f))]])\n",
    "Y_validation = np.array(to_categorical([int(validation_f[i][-1:]) for i in range(len(validation_f))]))\n",
    "\n",
    "X_test = np.array([cv2.imread(\"test/\"+j,1) for j in [test_f[i] for i in range(len(test_f))]])"
   ]
  },
  {
   "cell_type": "code",
   "execution_count": 4,
   "metadata": {},
   "outputs": [],
   "source": [
    "# normalize\n",
    "def normalize(train):\n",
    "    train_norm = train.astype('float32')\n",
    "    train_norm = (train_norm / np.max(train_norm))\n",
    "    return train_norm\n",
    "\n",
    "X_train = normalize(X_train)\n",
    "X_validation = normalize (X_validation)\n",
    "X_test = normalize (X_test)"
   ]
  },
  {
   "cell_type": "code",
   "execution_count": 5,
   "metadata": {},
   "outputs": [],
   "source": [
    "import tensorflow.keras.layers.experimental.preprocessing\n",
    "data_augmentation = keras.Sequential(\n",
    "  [\n",
    "    layers.experimental.preprocessing.RandomFlip(\"horizontal\",input_shape=(32,32,3)),\n",
    "    layers.experimental.preprocessing.RandomRotation(0.1),\n",
    "    layers.experimental.preprocessing.RandomTranslation(0.1,0.1)\n",
    "  ]\n",
    ")"
   ]
  },
  {
   "cell_type": "code",
   "execution_count": 6,
   "metadata": {},
   "outputs": [
    {
     "name": "stdout",
     "output_type": "stream",
     "text": [
      "Model: \"sequential_1\"\n",
      "_________________________________________________________________\n",
      "Layer (type)                 Output Shape              Param #   \n",
      "=================================================================\n",
      "conv2d (Conv2D)              (None, 32, 32, 32)        4736      \n",
      "_________________________________________________________________\n",
      "conv2d_1 (Conv2D)            (None, 32, 32, 32)        25632     \n",
      "_________________________________________________________________\n",
      "conv2d_2 (Conv2D)            (None, 32, 32, 32)        16416     \n",
      "_________________________________________________________________\n",
      "batch_normalization (BatchNo (None, 32, 32, 32)        128       \n",
      "_________________________________________________________________\n",
      "max_pooling2d (MaxPooling2D) (None, 16, 16, 32)        0         \n",
      "_________________________________________________________________\n",
      "dropout (Dropout)            (None, 16, 16, 32)        0         \n",
      "_________________________________________________________________\n",
      "conv2d_3 (Conv2D)            (None, 16, 16, 64)        32832     \n",
      "_________________________________________________________________\n",
      "conv2d_4 (Conv2D)            (None, 16, 16, 64)        36928     \n",
      "_________________________________________________________________\n",
      "conv2d_5 (Conv2D)            (None, 16, 16, 64)        36928     \n",
      "_________________________________________________________________\n",
      "batch_normalization_1 (Batch (None, 16, 16, 64)        256       \n",
      "_________________________________________________________________\n",
      "max_pooling2d_1 (MaxPooling2 (None, 8, 8, 64)          0         \n",
      "_________________________________________________________________\n",
      "dropout_1 (Dropout)          (None, 8, 8, 64)          0         \n",
      "_________________________________________________________________\n",
      "conv2d_6 (Conv2D)            (None, 8, 8, 128)         73856     \n",
      "_________________________________________________________________\n",
      "batch_normalization_2 (Batch (None, 8, 8, 128)         512       \n",
      "_________________________________________________________________\n",
      "max_pooling2d_2 (MaxPooling2 (None, 4, 4, 128)         0         \n",
      "_________________________________________________________________\n",
      "dropout_2 (Dropout)          (None, 4, 4, 128)         0         \n",
      "_________________________________________________________________\n",
      "flatten (Flatten)            (None, 2048)              0         \n",
      "_________________________________________________________________\n",
      "dense (Dense)                (None, 128)               262272    \n",
      "_________________________________________________________________\n",
      "batch_normalization_3 (Batch (None, 128)               512       \n",
      "_________________________________________________________________\n",
      "dropout_3 (Dropout)          (None, 128)               0         \n",
      "_________________________________________________________________\n",
      "dense_1 (Dense)              (None, 8)                 1032      \n",
      "=================================================================\n",
      "Total params: 492,040\n",
      "Trainable params: 491,336\n",
      "Non-trainable params: 704\n",
      "_________________________________________________________________\n"
     ]
    }
   ],
   "source": [
    "from keras.models import Sequential\n",
    "from keras.layers import Dense, Conv2D, Flatten, MaxPooling2D, Dropout, BatchNormalization\n",
    "from keras.regularizers import l2\n",
    "\n",
    "def build_model():\n",
    "    ### 3.1. create the model\n",
    "    model = Sequential()\n",
    "    \n",
    "#     model.add(data_augmentation)\n",
    "    \n",
    "    model.add(Conv2D(32, kernel_size=7, padding='same', activation='relu', input_shape=(32,32,3)))\n",
    "    model.add(Conv2D(32, kernel_size=5, padding='same', activation='relu'))\n",
    "    model.add(Conv2D(32, kernel_size=4, padding='same', activation='relu'))\n",
    "    model.add(BatchNormalization())\n",
    "    model.add(MaxPooling2D(pool_size=2, padding='same'))\n",
    "    model.add(Dropout(0.2))\n",
    "    \n",
    "    model.add(Conv2D(64, kernel_size=4, padding='same', activation='relu'))\n",
    "    model.add(Conv2D(64, kernel_size=3, padding='same', activation='relu'))\n",
    "    model.add(Conv2D(64, kernel_size=3, padding='same', activation='relu'))\n",
    "    model.add(BatchNormalization())\n",
    "    model.add(MaxPooling2D(pool_size=2, padding='same'))\n",
    "    model.add(Dropout(0.2))\n",
    "    \n",
    "    model.add(Conv2D(128, kernel_size=3, padding='same', activation='relu'))\n",
    "    model.add(BatchNormalization())\n",
    "    model.add(MaxPooling2D(pool_size=2, padding='same'))\n",
    "    model.add(Dropout(0.5))\n",
    "    \n",
    "    model.add(Flatten())\n",
    "    \n",
    "    model.add(Dense(128, activation='relu'))\n",
    "    model.add(BatchNormalization())\n",
    "    model.add(Dropout(0.5))\n",
    "    \n",
    "    model.add(Dense(8, activation='softmax'))\n",
    "\n",
    "    return model\n",
    "\n",
    "model = build_model()\n",
    "model.compile(optimizer='adam', loss='categorical_crossentropy', metrics=['accuracy'])\n",
    "model.summary()"
   ]
  },
  {
   "cell_type": "code",
   "execution_count": 7,
   "metadata": {},
   "outputs": [
    {
     "name": "stdout",
     "output_type": "stream",
     "text": [
      "Epoch 1/25\n",
      "118/118 [==============================] - 30s 253ms/step - loss: 2.0802 - accuracy: 0.2986 - val_loss: 2.1149 - val_accuracy: 0.2140\n",
      "Epoch 2/25\n",
      "118/118 [==============================] - 28s 234ms/step - loss: 1.7003 - accuracy: 0.3853 - val_loss: 1.8953 - val_accuracy: 0.2868\n",
      "Epoch 3/25\n",
      "118/118 [==============================] - 27s 232ms/step - loss: 1.5350 - accuracy: 0.4469 - val_loss: 1.8679 - val_accuracy: 0.3260\n",
      "Epoch 4/25\n",
      "118/118 [==============================] - 27s 233ms/step - loss: 1.4413 - accuracy: 0.4835 - val_loss: 1.9559 - val_accuracy: 0.3792\n",
      "Epoch 5/25\n",
      "118/118 [==============================] - 27s 231ms/step - loss: 1.3555 - accuracy: 0.5157 - val_loss: 1.3577 - val_accuracy: 0.5160\n",
      "Epoch 6/25\n",
      "118/118 [==============================] - 27s 232ms/step - loss: 1.2947 - accuracy: 0.5374 - val_loss: 1.3434 - val_accuracy: 0.5310\n",
      "Epoch 7/25\n",
      "118/118 [==============================] - 27s 231ms/step - loss: 1.2495 - accuracy: 0.5537 - val_loss: 1.2475 - val_accuracy: 0.5466\n",
      "Epoch 8/25\n",
      "118/118 [==============================] - 27s 231ms/step - loss: 1.2016 - accuracy: 0.5712 - val_loss: 1.2991 - val_accuracy: 0.5426\n",
      "Epoch 9/25\n",
      "118/118 [==============================] - 27s 231ms/step - loss: 1.1620 - accuracy: 0.5864 - val_loss: 1.2701 - val_accuracy: 0.5492\n",
      "Epoch 10/25\n",
      "118/118 [==============================] - 28s 240ms/step - loss: 1.1208 - accuracy: 0.5994 - val_loss: 1.2344 - val_accuracy: 0.5476\n",
      "Epoch 11/25\n",
      "118/118 [==============================] - 29s 242ms/step - loss: 1.1078 - accuracy: 0.6053 - val_loss: 1.2467 - val_accuracy: 0.5650\n",
      "Epoch 12/25\n",
      "118/118 [==============================] - 28s 240ms/step - loss: 1.0812 - accuracy: 0.6159 - val_loss: 1.1568 - val_accuracy: 0.5922\n",
      "Epoch 13/25\n",
      "118/118 [==============================] - 28s 241ms/step - loss: 1.0491 - accuracy: 0.6262 - val_loss: 1.1103 - val_accuracy: 0.6050\n",
      "Epoch 14/25\n",
      "118/118 [==============================] - 29s 242ms/step - loss: 1.0302 - accuracy: 0.6328 - val_loss: 1.0917 - val_accuracy: 0.6100\n",
      "Epoch 15/25\n",
      "118/118 [==============================] - 28s 239ms/step - loss: 1.0080 - accuracy: 0.6439 - val_loss: 1.0576 - val_accuracy: 0.6258\n",
      "Epoch 16/25\n",
      "118/118 [==============================] - 28s 239ms/step - loss: 0.9803 - accuracy: 0.6530 - val_loss: 1.1235 - val_accuracy: 0.6064\n",
      "Epoch 17/25\n",
      "118/118 [==============================] - 28s 239ms/step - loss: 0.9668 - accuracy: 0.6570 - val_loss: 1.0076 - val_accuracy: 0.6450\n",
      "Epoch 18/25\n",
      "118/118 [==============================] - 28s 239ms/step - loss: 0.9445 - accuracy: 0.6639 - val_loss: 1.1134 - val_accuracy: 0.6190\n",
      "Epoch 19/25\n",
      "118/118 [==============================] - 28s 240ms/step - loss: 0.9258 - accuracy: 0.6733 - val_loss: 1.0358 - val_accuracy: 0.6316\n",
      "Epoch 20/25\n",
      "118/118 [==============================] - 28s 240ms/step - loss: 0.9068 - accuracy: 0.6786 - val_loss: 1.0091 - val_accuracy: 0.6472\n",
      "Epoch 21/25\n",
      "118/118 [==============================] - 29s 243ms/step - loss: 0.8958 - accuracy: 0.6817 - val_loss: 1.1556 - val_accuracy: 0.5942\n",
      "Epoch 22/25\n",
      "118/118 [==============================] - 28s 240ms/step - loss: 0.8710 - accuracy: 0.6904 - val_loss: 1.0414 - val_accuracy: 0.6312\n",
      "Epoch 23/25\n",
      "118/118 [==============================] - 28s 240ms/step - loss: 0.8610 - accuracy: 0.6964 - val_loss: 0.9968 - val_accuracy: 0.6522\n",
      "Epoch 24/25\n",
      "118/118 [==============================] - 28s 240ms/step - loss: 0.8519 - accuracy: 0.7004 - val_loss: 1.0281 - val_accuracy: 0.6388\n",
      "Epoch 25/25\n",
      "118/118 [==============================] - 28s 241ms/step - loss: 0.8278 - accuracy: 0.7104 - val_loss: 0.9939 - val_accuracy: 0.6476\n"
     ]
    }
   ],
   "source": [
    "history = model.fit(X_train, Y_train, validation_data=(X_validation, Y_validation), epochs=25, batch_size=256, shuffle=True)\n",
    "model.save_weights('deep_hallucination.h5')"
   ]
  },
  {
   "cell_type": "code",
   "execution_count": 8,
   "metadata": {},
   "outputs": [
    {
     "name": "stdout",
     "output_type": "stream",
     "text": [
      "> 0.648\n"
     ]
    },
    {
     "data": {
      "image/png": "[encoded data removed]",
      "text/plain": [
       "<Figure size 432x288 with 2 Axes>"
      ]
     },
     "metadata": {
      "needs_background": "light"
     },
     "output_type": "display_data"
    }
   ],
   "source": [
    "\n",
    "# plot diagnostic learning curves\n",
    "def summarize_diagnostics(history):\n",
    "    # plot loss\n",
    "    plt.subplot(211)\n",
    "    plt.title('Cross Entropy Loss')\n",
    "    plt.plot(history.history['loss'], color='blue', label='train')\n",
    "    plt.plot(history.history['val_loss'], color='orange', label='test')\n",
    "    \n",
    "    # plot accuracy\n",
    "    plt.subplot(212)\n",
    "    plt.title('Classification Accuracy')\n",
    "    plt.plot(history.history['accuracy'], color='blue', label='train')\n",
    "    plt.plot(history.history['val_accuracy'], color='orange', label='test')\n",
    "\n",
    "    # save plot to file\n",
    "    filename = sys.argv[0].split('/')[-1]\n",
    "    plt.savefig(filename + '_plot.png')\n",
    "\n",
    "plt.show()\n",
    "\n",
    "# evaluate model\n",
    "_, acc = model.evaluate(X_validation, Y_validation, verbose=0)\n",
    "\n",
    "print('> %.3f' % (acc))\n",
    "\n",
    "# learning curves\n",
    "summarize_diagnostics(history)"
   ]
  },
  {
   "cell_type": "code",
   "execution_count": 9,
   "metadata": {},
   "outputs": [],
   "source": [
    "test_predictions = np.argmax(model.predict(X_test), axis=1)\n",
    "\n",
    "f = open(\"submission.txt\",\"w\")\n",
    "f.write(\"id,label\\n\")\n",
    "for i in range(len(X_test)):\n",
    "    f.write(test_f[i]+','+str(test_predictions[i])+'\\n')\n",
    "f.close()"
   ]
  }
 ],
 "metadata": {
  "kernelspec": {
   "display_name": "Python 3",
   "language": "python",
   "name": "python3"
  },
  "language_info": {
   "codemirror_mode": {
    "name": "ipython",
    "version": 3
   },
   "file_extension": ".py",
   "mimetype": "text/x-python",
   "name": "python",
   "nbconvert_exporter": "python",
   "pygments_lexer": "ipython3",
   "version": "3.8.5"
  }
 },
 "nbformat": 4,
 "nbformat_minor": 4
}
