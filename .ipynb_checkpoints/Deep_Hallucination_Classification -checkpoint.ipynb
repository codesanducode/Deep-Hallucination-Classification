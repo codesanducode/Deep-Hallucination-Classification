{
 "cells": [
  {
   "cell_type": "code",
   "execution_count": 3,
   "metadata": {},
   "outputs": [],
   "source": [
    "import os\n",
    "import sys\n",
    "import numpy as np\n",
    "import tensorflow as tf\n",
    "import keras\n",
    "from keras import datasets, layers, models\n",
    "import matplotlib.pyplot as plt\n",
    "import cv2"
   ]
  },
  {
   "cell_type": "code",
   "execution_count": 4,
   "metadata": {},
   "outputs": [],
   "source": [
    "#read data\n",
    "f = open(\"train.txt\", \"r\")\n",
    "train_f = [i.replace('\\n','') for i in f.readlines()]\n",
    "f.close()\n",
    "f = open(\"test.txt\", \"r\")\n",
    "test_f = [i.replace('\\n','') for i in f.readlines()]\n",
    "f.close()\n",
    "f = open(\"validation.txt\", \"r\")\n",
    "validation_f = [i.replace('\\n','') for i in f.readlines()]\n",
    "f.close()"
   ]
  },
  {
   "cell_type": "code",
   "execution_count": 5,
   "metadata": {},
   "outputs": [],
   "source": [
    "#format data\n",
    "from keras.utils import to_categorical\n",
    "\n",
    "X_train = np.array([cv2.imread(\"train/\"+j,1) for j in [train_f[i][:-2] for i in range(len(train_f))]])\n",
    "Y_train = np.array(to_categorical([int(train_f[i][-1:]) for i in range(len(train_f))]))\n",
    "\n",
    "X_validation = np.array([cv2.imread(\"validation/\"+j,1) for j in [validation_f[i][:-2] for i in range(len(validation_f))]])\n",
    "Y_validation = np.array(to_categorical([int(validation_f[i][-1:]) for i in range(len(validation_f))]))\n",
    "\n",
    "X_test = np.array([cv2.imread(\"test/\"+j,1) for j in [test_f[i] for i in range(len(test_f))]])"
   ]
  },
  {
   "cell_type": "code",
   "execution_count": 6,
   "metadata": {},
   "outputs": [],
   "source": [
    "# normalize\n",
    "def normalize(train):\n",
    "    train_norm = train.astype('float32')\n",
    "    train_norm = (train_norm / np.max(train_norm))\n",
    "    return train_norm\n",
    "\n",
    "X_train = normalize(X_train)\n",
    "X_validation = normalize (X_validation)\n",
    "X_test = normalize (X_test)"
   ]
  },
  {
   "cell_type": "code",
   "execution_count": 7,
   "metadata": {},
   "outputs": [],
   "source": [
    "# check gpu\n",
    "\n",
    "# tf.config.list_physical_devices('GPU')\n",
    "# # K.tensorflow_backend._get_available_gpus()\n",
    "\n",
    "\n",
    "\n",
    "# config = tf.compat.v1.ConfigProto( device_count = {'GPU': 1 , 'CPU': 8} ) \n",
    "# sess = tf.compat.v1.Session(config=config) \n",
    "# # tf.compat.v1.keras.backend.get_session(sess)"
   ]
  },
  {
   "cell_type": "code",
   "execution_count": 8,
   "metadata": {},
   "outputs": [],
   "source": [
    "#unused data augmentation\n",
    "\n",
    "# import tensorflow.keras.layers.experimental.preprocessing\n",
    "# data_augmentation = keras.Sequential(\n",
    "#   [\n",
    "#     layers.experimental.preprocessing.RandomFlip(\"horizontal\",input_shape=(32,32,3)),\n",
    "#     layers.experimental.preprocessing.RandomRotation(0.1,input_shape=(32,32,3)),\n",
    "#     layers.experimental.preprocessing.RandomTranslation(0.1,0.1)\n",
    "#   ]\n",
    "# )"
   ]
  },
  {
   "cell_type": "code",
   "execution_count": 9,
   "metadata": {},
   "outputs": [
    {
     "name": "stdout",
     "output_type": "stream",
     "text": [
      "Model: \"sequential\"\n",
      "_________________________________________________________________\n",
      "Layer (type)                 Output Shape              Param #   \n",
      "=================================================================\n",
      "conv2d (Conv2D)              (None, 32, 32, 32)        896       \n",
      "_________________________________________________________________\n",
      "conv2d_1 (Conv2D)            (None, 32, 32, 32)        9248      \n",
      "_________________________________________________________________\n",
      "conv2d_2 (Conv2D)            (None, 32, 32, 64)        18496     \n",
      "_________________________________________________________________\n",
      "batch_normalization (BatchNo (None, 32, 32, 64)        256       \n",
      "_________________________________________________________________\n",
      "max_pooling2d (MaxPooling2D) (None, 16, 16, 64)        0         \n",
      "_________________________________________________________________\n",
      "dropout (Dropout)            (None, 16, 16, 64)        0         \n",
      "_________________________________________________________________\n",
      "conv2d_3 (Conv2D)            (None, 16, 16, 64)        36928     \n",
      "_________________________________________________________________\n",
      "conv2d_4 (Conv2D)            (None, 16, 16, 128)       73856     \n",
      "_________________________________________________________________\n",
      "conv2d_5 (Conv2D)            (None, 16, 16, 256)       295168    \n",
      "_________________________________________________________________\n",
      "batch_normalization_1 (Batch (None, 16, 16, 256)       1024      \n",
      "_________________________________________________________________\n",
      "max_pooling2d_1 (MaxPooling2 (None, 8, 8, 256)         0         \n",
      "_________________________________________________________________\n",
      "dropout_1 (Dropout)          (None, 8, 8, 256)         0         \n",
      "_________________________________________________________________\n",
      "conv2d_6 (Conv2D)            (None, 8, 8, 128)         295040    \n",
      "_________________________________________________________________\n",
      "batch_normalization_2 (Batch (None, 8, 8, 128)         512       \n",
      "_________________________________________________________________\n",
      "max_pooling2d_2 (MaxPooling2 (None, 4, 4, 128)         0         \n",
      "_________________________________________________________________\n",
      "dropout_2 (Dropout)          (None, 4, 4, 128)         0         \n",
      "_________________________________________________________________\n",
      "flatten (Flatten)            (None, 2048)              0         \n",
      "_________________________________________________________________\n",
      "dense (Dense)                (None, 256)               524544    \n",
      "_________________________________________________________________\n",
      "batch_normalization_3 (Batch (None, 256)               1024      \n",
      "_________________________________________________________________\n",
      "dropout_3 (Dropout)          (None, 256)               0         \n",
      "_________________________________________________________________\n",
      "dense_1 (Dense)              (None, 8)                 2056      \n",
      "=================================================================\n",
      "Total params: 1,259,048\n",
      "Trainable params: 1,257,640\n",
      "Non-trainable params: 1,408\n",
      "_________________________________________________________________\n"
     ]
    }
   ],
   "source": [
    "#model\n",
    "from keras.models import Sequential\n",
    "from keras.layers import Dense, Conv2D, Flatten, MaxPooling2D, Dropout, BatchNormalization\n",
    "def build_model():\n",
    "    model = Sequential()\n",
    "    \n",
    "    model.add(Conv2D(32, kernel_size=3, padding='same', activation='relu', input_shape=(32,32,3)))\n",
    "    model.add(Conv2D(32, kernel_size=3, padding='same', activation='relu'))\n",
    "    model.add(Conv2D(64, kernel_size=3, padding='same', activation='relu'))\n",
    "    model.add(BatchNormalization())\n",
    "    model.add(MaxPooling2D(pool_size=2, padding='same'))\n",
    "    model.add(Dropout(0.5))\n",
    "    \n",
    "    model.add(Conv2D(64, kernel_size=3, padding='same', activation='relu'))\n",
    "    model.add(Conv2D(128, kernel_size=3, padding='same', activation='relu'))\n",
    "    model.add(Conv2D(256, kernel_size=3, padding='same', activation='relu'))\n",
    "    model.add(BatchNormalization())\n",
    "    model.add(MaxPooling2D(pool_size=2, padding='same'))\n",
    "    model.add(Dropout(0.5))\n",
    "\n",
    "    model.add(Conv2D(128, kernel_size=3, padding='same', activation='relu'))\n",
    "    model.add(BatchNormalization())\n",
    "    model.add(MaxPooling2D(pool_size=2, padding='same'))\n",
    "    model.add(Dropout(0.5))\n",
    "\n",
    "    model.add(Flatten())\n",
    "    model.add(Dense(256, activation='relu'))\n",
    "    model.add(BatchNormalization())\n",
    "    model.add(Dropout(0.5))\n",
    "    model.add(Dense(8, activation='softmax'))\n",
    "    \n",
    "    \n",
    "    return model\n",
    "\n",
    "model = build_model()\n",
    "model.compile(optimizer='adam', loss='categorical_crossentropy', metrics=['accuracy'])\n",
    "model.summary()\n",
    "\n"
   ]
  },
  {
   "cell_type": "code",
   "execution_count": 10,
   "metadata": {
    "scrolled": true
   },
   "outputs": [
    {
     "name": "stdout",
     "output_type": "stream",
     "text": [
      "Epoch 1/40\n",
      "469/469 [==============================] - 37s 78ms/step - loss: 2.0194 - accuracy: 0.3090 - val_loss: 1.9474 - val_accuracy: 0.2470\n",
      "Epoch 2/40\n",
      "469/469 [==============================] - 34s 73ms/step - loss: 1.5633 - accuracy: 0.4409 - val_loss: 1.9853 - val_accuracy: 0.3452\n",
      "Epoch 3/40\n",
      "469/469 [==============================] - 34s 71ms/step - loss: 1.4006 - accuracy: 0.4995 - val_loss: 1.2937 - val_accuracy: 0.5328\n",
      "Epoch 4/40\n",
      "469/469 [==============================] - 34s 72ms/step - loss: 1.2929 - accuracy: 0.5386 - val_loss: 1.2503 - val_accuracy: 0.5474\n",
      "Epoch 5/40\n",
      "469/469 [==============================] - 34s 72ms/step - loss: 1.2210 - accuracy: 0.5631 - val_loss: 1.1537 - val_accuracy: 0.5874\n",
      "Epoch 6/40\n",
      "469/469 [==============================] - 34s 72ms/step - loss: 1.1727 - accuracy: 0.5815 - val_loss: 1.1257 - val_accuracy: 0.5956\n",
      "Epoch 7/40\n",
      "469/469 [==============================] - 34s 72ms/step - loss: 1.1291 - accuracy: 0.5981 - val_loss: 1.2016 - val_accuracy: 0.5738\n",
      "Epoch 8/40\n",
      "469/469 [==============================] - 34s 72ms/step - loss: 1.0995 - accuracy: 0.6082 - val_loss: 1.1102 - val_accuracy: 0.6074\n",
      "Epoch 9/40\n",
      "469/469 [==============================] - 34s 72ms/step - loss: 1.0739 - accuracy: 0.6150 - val_loss: 1.0600 - val_accuracy: 0.6218\n",
      "Epoch 10/40\n",
      "469/469 [==============================] - 33s 71ms/step - loss: 1.0458 - accuracy: 0.6270 - val_loss: 1.0281 - val_accuracy: 0.6268\n",
      "Epoch 11/40\n",
      "469/469 [==============================] - 33s 70ms/step - loss: 1.0223 - accuracy: 0.6318 - val_loss: 1.1129 - val_accuracy: 0.6052\n",
      "Epoch 12/40\n",
      "469/469 [==============================] - 34s 71ms/step - loss: 0.9979 - accuracy: 0.6480 - val_loss: 1.1551 - val_accuracy: 0.5954\n",
      "Epoch 13/40\n",
      "469/469 [==============================] - 34s 72ms/step - loss: 0.9747 - accuracy: 0.6525 - val_loss: 1.0227 - val_accuracy: 0.6366\n",
      "Epoch 14/40\n",
      "469/469 [==============================] - 34s 72ms/step - loss: 0.9605 - accuracy: 0.6581 - val_loss: 0.9772 - val_accuracy: 0.6540\n",
      "Epoch 15/40\n",
      "469/469 [==============================] - 33s 70ms/step - loss: 0.9337 - accuracy: 0.6681 - val_loss: 0.9371 - val_accuracy: 0.6638\n",
      "Epoch 16/40\n",
      "469/469 [==============================] - 33s 71ms/step - loss: 0.9212 - accuracy: 0.6681 - val_loss: 0.9226 - val_accuracy: 0.6690\n",
      "Epoch 17/40\n",
      "469/469 [==============================] - 33s 71ms/step - loss: 0.9087 - accuracy: 0.6767 - val_loss: 0.9800 - val_accuracy: 0.6560\n",
      "Epoch 18/40\n",
      "469/469 [==============================] - 34s 72ms/step - loss: 0.8804 - accuracy: 0.6859 - val_loss: 1.0308 - val_accuracy: 0.6392\n",
      "Epoch 19/40\n",
      "469/469 [==============================] - 33s 71ms/step - loss: 0.8631 - accuracy: 0.6935 - val_loss: 0.9318 - val_accuracy: 0.6676\n",
      "Epoch 20/40\n",
      "469/469 [==============================] - 33s 70ms/step - loss: 0.8527 - accuracy: 0.6967 - val_loss: 0.9863 - val_accuracy: 0.6528\n",
      "Epoch 21/40\n",
      "469/469 [==============================] - 33s 70ms/step - loss: 0.8352 - accuracy: 0.6988 - val_loss: 1.0040 - val_accuracy: 0.6620\n",
      "Epoch 22/40\n",
      "469/469 [==============================] - 33s 70ms/step - loss: 0.8260 - accuracy: 0.7039 - val_loss: 0.9977 - val_accuracy: 0.6562\n",
      "Epoch 23/40\n",
      "469/469 [==============================] - 33s 70ms/step - loss: 0.8062 - accuracy: 0.7127 - val_loss: 0.9158 - val_accuracy: 0.6836\n",
      "Epoch 24/40\n",
      "469/469 [==============================] - 33s 70ms/step - loss: 0.7938 - accuracy: 0.7164 - val_loss: 0.9091 - val_accuracy: 0.6802\n",
      "Epoch 25/40\n",
      "469/469 [==============================] - 33s 70ms/step - loss: 0.7706 - accuracy: 0.7240 - val_loss: 0.9344 - val_accuracy: 0.6748\n",
      "Epoch 26/40\n",
      "469/469 [==============================] - 33s 70ms/step - loss: 0.7650 - accuracy: 0.7273 - val_loss: 0.9690 - val_accuracy: 0.6646\n",
      "Epoch 27/40\n",
      "469/469 [==============================] - 33s 71ms/step - loss: 0.7544 - accuracy: 0.7304 - val_loss: 0.9148 - val_accuracy: 0.6728\n",
      "Epoch 28/40\n",
      "469/469 [==============================] - 33s 70ms/step - loss: 0.7441 - accuracy: 0.7362 - val_loss: 0.9171 - val_accuracy: 0.6768\n",
      "Epoch 29/40\n",
      "469/469 [==============================] - 33s 70ms/step - loss: 0.7270 - accuracy: 0.7398 - val_loss: 0.8975 - val_accuracy: 0.6838\n",
      "Epoch 30/40\n",
      "469/469 [==============================] - 33s 70ms/step - loss: 0.7215 - accuracy: 0.7420 - val_loss: 0.8723 - val_accuracy: 0.6916\n",
      "Epoch 31/40\n",
      "469/469 [==============================] - 33s 70ms/step - loss: 0.7003 - accuracy: 0.7506 - val_loss: 0.8991 - val_accuracy: 0.6932\n",
      "Epoch 32/40\n",
      "469/469 [==============================] - 33s 70ms/step - loss: 0.7008 - accuracy: 0.7485 - val_loss: 0.9175 - val_accuracy: 0.6818\n",
      "Epoch 33/40\n",
      "469/469 [==============================] - 33s 70ms/step - loss: 0.6826 - accuracy: 0.7540 - val_loss: 0.9284 - val_accuracy: 0.6770\n",
      "Epoch 34/40\n",
      "469/469 [==============================] - 33s 70ms/step - loss: 0.6749 - accuracy: 0.7575 - val_loss: 0.9737 - val_accuracy: 0.6754\n",
      "Epoch 35/40\n",
      "469/469 [==============================] - 33s 70ms/step - loss: 0.6651 - accuracy: 0.7600 - val_loss: 0.9069 - val_accuracy: 0.6850\n",
      "Epoch 36/40\n",
      "469/469 [==============================] - 33s 70ms/step - loss: 0.6569 - accuracy: 0.7653 - val_loss: 0.9504 - val_accuracy: 0.6816\n",
      "Epoch 37/40\n",
      "469/469 [==============================] - 33s 71ms/step - loss: 0.6488 - accuracy: 0.7677 - val_loss: 0.9143 - val_accuracy: 0.6838\n",
      "Epoch 38/40\n",
      "469/469 [==============================] - 33s 70ms/step - loss: 0.6313 - accuracy: 0.7745 - val_loss: 0.9192 - val_accuracy: 0.6852\n",
      "Epoch 39/40\n",
      "469/469 [==============================] - 33s 70ms/step - loss: 0.6279 - accuracy: 0.7745 - val_loss: 0.9015 - val_accuracy: 0.6944\n",
      "Epoch 40/40\n",
      "469/469 [==============================] - 33s 70ms/step - loss: 0.6152 - accuracy: 0.7801 - val_loss: 0.8999 - val_accuracy: 0.6960\n"
     ]
    }
   ],
   "source": [
    "#train\n",
    "history = model.fit(X_train, Y_train, validation_data=(X_validation, Y_validation), epochs=40, batch_size=64, shuffle=True)\n",
    "model.save_weights('deep_hallucination.h5')"
   ]
  },
  {
   "cell_type": "code",
   "execution_count": 11,
   "metadata": {},
   "outputs": [
    {
     "name": "stdout",
     "output_type": "stream",
     "text": [
      "69.600\n"
     ]
    },
    {
     "data": {
      "image/png": "[encoded data removed]",
      "text/plain": [
       "<Figure size 432x288 with 2 Axes>"
      ]
     },
     "metadata": {
      "needs_background": "light"
     },
     "output_type": "display_data"
    }
   ],
   "source": [
    "# plot diagnostic learning curves\n",
    "def summarize_diagnostics(history):\n",
    "    # plot loss\n",
    "    plt.subplot(211)\n",
    "    plt.title('Cross Entropy Loss')\n",
    "    plt.plot(history.history['loss'], color='blue', label='train')\n",
    "    plt.plot(history.history['val_loss'], color='orange', label='test')\n",
    "    \n",
    "    # plot accuracy\n",
    "    plt.subplot(212)\n",
    "    plt.title('Classification Accuracy')\n",
    "    plt.plot(history.history['accuracy'], color='blue', label='train')\n",
    "    plt.plot(history.history['val_accuracy'], color='orange', label='test')\n",
    "\n",
    "plt.show()\n",
    "\n",
    "_, acc = model.evaluate(X_validation, Y_validation, verbose=0)\n",
    "print('%.3f' % (acc))\n",
    "summarize_diagnostics(history)"
   ]
  },
  {
   "cell_type": "code",
   "execution_count": 13,
   "metadata": {},
   "outputs": [
    {
     "name": "stdout",
     "output_type": "stream",
     "text": [
      "[[393  20  37  40  17  47  27  16]\n",
      " [ 17 284  15  15  63  12  40  32]\n",
      " [ 17   6 544  22   9  30  15  18]\n",
      " [ 71  20  33 444  24  55  35  24]\n",
      " [  8  27  12  14 530  31  26  19]\n",
      " [ 25  10  62  23  36 390  21  19]\n",
      " [ 30  27  15  27  29  27 467  32]\n",
      " [ 23  26  35  26  42  22  49 428]]\n"
     ]
    }
   ],
   "source": [
    "#confusion matrix\n",
    "\n",
    "from sklearn.metrics import confusion_matrix\n",
    "\n",
    "predictions = np.argmax(model.predict(X_validation), axis=1)\n",
    "ground_truth = np.argmax(Y_validation, axis=1)\n",
    "matrix = confusion_matrix(ground_truth, predictions)\n",
    "print(matrix)"
   ]
  },
  {
   "cell_type": "code",
   "execution_count": 12,
   "metadata": {},
   "outputs": [],
   "source": [
    "# make submission file\n",
    "\n",
    "# test_predictions = np.argmax(model.predict(X_test), axis=1)\n",
    "\n",
    "# f = open(\"submission.txt\",\"w\")\n",
    "# f.write(\"id,label\\n\")\n",
    "# for i in range(len(X_test)):\n",
    "#     f.write(test_f[i]+','+str(test_predictions[i])+'\\n')\n",
    "# f.close()"
   ]
  }
 ],
 "metadata": {
  "kernelspec": {
   "display_name": "Python 3",
   "language": "python",
   "name": "python3"
  },
  "language_info": {
   "codemirror_mode": {
    "name": "ipython",
    "version": 3
   },
   "file_extension": ".py",
   "mimetype": "text/x-python",
   "name": "python",
   "nbconvert_exporter": "python",
   "pygments_lexer": "ipython3",
   "version": "3.8.5"
  }
 },
 "nbformat": 4,
 "nbformat_minor": 4
}
